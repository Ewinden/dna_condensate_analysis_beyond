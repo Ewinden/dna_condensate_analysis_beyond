{
 "cells": [
  {
   "cell_type": "code",
   "execution_count": 33,
   "metadata": {},
   "outputs": [],
   "source": [
    "from pycromanager import Bridge\n",
    "import pyvisa\n",
    "import PySimpleGUI as sg\n",
    "from time import sleep"
   ]
  },
  {
   "cell_type": "code",
   "execution_count": 4,
   "metadata": {},
   "outputs": [
    {
     "name": "stdout",
     "output_type": "stream",
     "text": [
      "You entered  sfgdfg\n"
     ]
    }
   ],
   "source": [
    "sg.theme('DarkAmber')   # Add a touch of color\n",
    "# All the stuff inside your window.\n",
    "layout = [  [sg.Text('Some text on Row 1')],\n",
    "            [sg.Text('Enter something on Row 2'), sg.InputText()],\n",
    "            [sg.Button('Ok'), sg.Button('Cancel')] ]\n",
    "\n",
    "# Create the Window\n",
    "window = sg.Window('Window Title', layout)\n",
    "# Event Loop to process \"events\" and get the \"values\" of the inputs\n",
    "while True:\n",
    "    event, values = window.read()\n",
    "    if event == sg.WIN_CLOSED or event == 'Cancel': # if user closes window or clicks cancel\n",
    "        break\n",
    "    print('You entered ', values[0])\n"
   ]
  },
  {
   "cell_type": "code",
   "execution_count": 51,
   "metadata": {},
   "outputs": [
    {
     "name": "stdout",
     "output_type": "stream",
     "text": [
      "OFF\n"
     ]
    }
   ],
   "source": [
    "rm = pyvisa.ResourceManager()\n",
    "res = rm.list_resources()[0]\n",
    "inst = rm.open_resource(res, timeout=5000, chunk_size = 40*1024)\n",
    "inst.read_termination = '\\n'\n",
    "inst.write_termination = '\\n'\n",
    "inst.write('*C1:OUTP?')\n",
    "sleep(0.25)\n",
    "on = inst.read()\n",
    "\n",
    "print(on[8:11])\n",
    "if on[8:11] == 'OFF':\n",
    "    inst.write('C1:OUTP ON')\n",
    "else:\n",
    "    inst.write('C1:OUTP OFF')"
   ]
  },
  {
   "cell_type": "code",
   "execution_count": 75,
   "metadata": {},
   "outputs": [
    {
     "name": "stdout",
     "output_type": "stream",
     "text": [
      "OFF\n"
     ]
    }
   ],
   "source": [
    "rm = pyvisa.ResourceManager()\n",
    "res = rm.list_resources()[0]\n",
    "inst = rm.open_resource(res, timeout=5000, chunk_size = 40*1024, query_delay=.1)\n",
    "inst.read_termination = '\\n'\n",
    "inst.write_termination = '\\n'\n",
    "on = inst.query('*C1:OUTP?')\n",
    "\n",
    "print(on[8:11])\n",
    "if on[8:11] == 'OFF':\n",
    "    inst.write('C1:OUTP ON')\n",
    "else:\n",
    "    inst.write('C1:OUTP OFF')"
   ]
  },
  {
   "cell_type": "code",
   "execution_count": 59,
   "metadata": {},
   "outputs": [
    {
     "name": "stdout",
     "output_type": "stream",
     "text": [
      "<pycromanager.core.mmcorej_CMMCore object at 0x0000000004AE57C8>\n"
     ]
    }
   ],
   "source": [
    "bridge = Bridge()\n",
    "print(bridge.get_core())"
   ]
  },
  {
   "cell_type": "code",
   "execution_count": null,
   "metadata": {},
   "outputs": [],
   "source": []
  },
  {
   "cell_type": "code",
   "execution_count": null,
   "metadata": {},
   "outputs": [],
   "source": []
  }
 ],
 "metadata": {
  "kernelspec": {
   "display_name": "Python 3",
   "language": "python",
   "name": "python3"
  },
  "language_info": {
   "codemirror_mode": {
    "name": "ipython",
    "version": 3
   },
   "file_extension": ".py",
   "mimetype": "text/x-python",
   "name": "python",
   "nbconvert_exporter": "python",
   "pygments_lexer": "ipython3",
   "version": "3.7.9"
  }
 },
 "nbformat": 4,
 "nbformat_minor": 4
}
