{
 "cells": [
  {
   "cell_type": "code",
   "execution_count": 2,
   "metadata": {},
   "outputs": [],
   "source": [
    "import json\n",
    "from skimage import io\n",
    "import os\n"
   ]
  },
  {
   "cell_type": "code",
   "execution_count": 3,
   "metadata": {},
   "outputs": [
    {
     "name": "stdout",
     "output_type": "stream",
     "text": [
      "C:/Images/2023/4-19-2023 DNAse and HindIII/DNAse/With\\positions\\0\\65470_735889.tif\n"
     ]
    },
    {
     "name": "stderr",
     "output_type": "stream",
     "text": [
      "C:\\Users\\Eamon\\AppData\\Local\\Temp\\ipykernel_16184\\4001040875.py:76: UserWarning: C:/Images/2023/4-19-2023 DNAse and HindIII/DNAse/With\\positions\\0\\65470_735889.tif is a low contrast image\n",
      "  io.imsave(fotiname,img[1])\n"
     ]
    }
   ],
   "source": [
    "#FOR IMAGE SETS SAVED SEPARATELY\n",
    "# set folder to run\n",
    "folder = \"C:/Images/2023/4-19-2023 DNAse and HindIII/DNAse/With\"\n",
    "\n",
    "# read metadata, set up list of images and times\n",
    "positionslistlist = {}\n",
    "for num in os.listdir(folder):\n",
    "    metadata = os.path.join(folder,num)\n",
    "    metadata = os.path.join(metadata, 'Default')\n",
    "    metadata = os.path.join(metadata, 'metadata.txt')\n",
    "    #print(metadata)\n",
    "    fil = open(metadata)\n",
    "    meta = fil.read()\n",
    "    jmeta = json.loads(meta)\n",
    "    #print(jmeta)\n",
    "    positionslist = []\n",
    "    for key in jmeta.keys():\n",
    "        val = jmeta[key]\n",
    "        #print(key)\n",
    "        #print(val.keys())\n",
    "        if 'XPositionUm' in val.keys():\n",
    "            #print(val['UserData']['TimeReceivedByCore']['scalar'])\n",
    "            #positionslist.append({'Name':key, 'XPositionUm':val['XPositionUm'], 'YPositionUm':val['YPositionUm']})\n",
    "            timek = val['UserData']['TimeReceivedByCore']['scalar']\n",
    "            timesplit = timek.split(':')\n",
    "            hr = timesplit[0][timesplit[0].find(' '):]\n",
    "            min = int(hr)*60+int(timesplit[1])\n",
    "            sec = float(min)*60 + float(timesplit[2])\n",
    "            secsplit = str(sec).split('.')\n",
    "            strsec = secsplit[0]+'_'+secsplit[1]\n",
    "            positionslist.append([key,strsec,[val['YPositionUm'],val['XPositionUm']]])\n",
    "    positionslistlist[num] = positionslist\n",
    "\n",
    "\n",
    "#get positions\n",
    "positions = []\n",
    "for p in positionslistlist.keys():\n",
    "    for frame in positionslistlist[p]:\n",
    "        pos = [frame[2][0],frame[2][1]]\n",
    "        if pos not in positions:\n",
    "            positions.append(pos)\n",
    "\n",
    "#make stacks of image names\n",
    "numsites = len(positions)\n",
    "posset = [[]] * numsites\n",
    "for p in positionslistlist.keys():\n",
    "    for frame in positionslistlist[p]:\n",
    "        pos = [frame[2][0],frame[2][1]]\n",
    "        ind = positions.index(pos)\n",
    "        posset[ind] = posset[ind] + [[p,frame]]\n",
    "\n",
    "#make stacks of images\n",
    "imposset = [[]] * numsites\n",
    "for pi , pos in enumerate(posset):\n",
    "    for fi, frame in enumerate(pos):\n",
    "        foname = frame[0]\n",
    "        iname = frame[1][0][17:]\n",
    "        time = frame[1][1]\n",
    "        imloc = os.path.join(folder,foname)\n",
    "        imloc = os.path.join(imloc,'Default')\n",
    "        imloc = os.path.join(imloc,iname)\n",
    "        img = io.imread(imloc)\n",
    "        imposset[pi] = imposset[pi] + [[iname,img,time]]\n",
    "\n",
    "#save image stacks\n",
    "posfolder = os.path.join(folder,'positions')\n",
    "if not os.path.exists(posfolder):\n",
    "    os.makedirs(posfolder)\n",
    "    for i in range(numsites):\n",
    "        os.makedirs(os.path.join(posfolder,str(i)))\n",
    "for i, imset in enumerate(imposset):\n",
    "    curfold = os.path.join(posfolder,str(i))\n",
    "    for d, img in enumerate(imset):\n",
    "        fotiname = os.path.join(curfold,str(img[2])+'.tif')\n",
    "        print(fotiname)\n",
    "        io.imsave(fotiname,img[1])"
   ]
  },
  {
   "cell_type": "code",
   "execution_count": 3,
   "metadata": {},
   "outputs": [
    {
     "ename": "FileNotFoundError",
     "evalue": "[Errno 2] No such file or directory: 'C:\\\\Images\\\\2023\\\\4-14-2023 HindIII digest\\\\DnaseI\\\\split\\\\5_MMStack_Pos0.ome0000.tif'",
     "output_type": "error",
     "traceback": [
      "\u001b[1;31m---------------------------------------------------------------------------\u001b[0m",
      "\u001b[1;31mFileNotFoundError\u001b[0m                         Traceback (most recent call last)",
      "Cell \u001b[1;32mIn[3], line 49\u001b[0m\n\u001b[0;32m     47\u001b[0m         time \u001b[39m=\u001b[39m frame[\u001b[39m1\u001b[39m]\n\u001b[0;32m     48\u001b[0m         imloc \u001b[39m=\u001b[39m os\u001b[39m.\u001b[39mpath\u001b[39m.\u001b[39mjoin(folder,iname)\n\u001b[1;32m---> 49\u001b[0m         img \u001b[39m=\u001b[39m io\u001b[39m.\u001b[39;49mimread(imloc)\n\u001b[0;32m     50\u001b[0m         imposset[pi] \u001b[39m=\u001b[39m imposset[pi] \u001b[39m+\u001b[39m [[iname,img,time]]\n\u001b[0;32m     52\u001b[0m \u001b[39m#save image stacks\u001b[39;00m\n",
      "File \u001b[1;32mc:\\Users\\Eamon\\.conda\\envs\\pycromanager\\lib\\site-packages\\skimage\\io\\_io.py:53\u001b[0m, in \u001b[0;36mimread\u001b[1;34m(fname, as_gray, plugin, **plugin_args)\u001b[0m\n\u001b[0;32m     50\u001b[0m         plugin \u001b[39m=\u001b[39m \u001b[39m'\u001b[39m\u001b[39mtifffile\u001b[39m\u001b[39m'\u001b[39m\n\u001b[0;32m     52\u001b[0m \u001b[39mwith\u001b[39;00m file_or_url_context(fname) \u001b[39mas\u001b[39;00m fname:\n\u001b[1;32m---> 53\u001b[0m     img \u001b[39m=\u001b[39m call_plugin(\u001b[39m'\u001b[39m\u001b[39mimread\u001b[39m\u001b[39m'\u001b[39m, fname, plugin\u001b[39m=\u001b[39mplugin, \u001b[39m*\u001b[39m\u001b[39m*\u001b[39mplugin_args)\n\u001b[0;32m     55\u001b[0m \u001b[39mif\u001b[39;00m \u001b[39mnot\u001b[39;00m \u001b[39mhasattr\u001b[39m(img, \u001b[39m'\u001b[39m\u001b[39mndim\u001b[39m\u001b[39m'\u001b[39m):\n\u001b[0;32m     56\u001b[0m     \u001b[39mreturn\u001b[39;00m img\n",
      "File \u001b[1;32mc:\\Users\\Eamon\\.conda\\envs\\pycromanager\\lib\\site-packages\\skimage\\io\\manage_plugins.py:207\u001b[0m, in \u001b[0;36mcall_plugin\u001b[1;34m(kind, *args, **kwargs)\u001b[0m\n\u001b[0;32m    203\u001b[0m     \u001b[39mexcept\u001b[39;00m \u001b[39mIndexError\u001b[39;00m:\n\u001b[0;32m    204\u001b[0m         \u001b[39mraise\u001b[39;00m \u001b[39mRuntimeError\u001b[39;00m(\u001b[39m'\u001b[39m\u001b[39mCould not find the plugin \u001b[39m\u001b[39m\"\u001b[39m\u001b[39m%s\u001b[39;00m\u001b[39m\"\u001b[39m\u001b[39m for \u001b[39m\u001b[39m%s\u001b[39;00m\u001b[39m.\u001b[39m\u001b[39m'\u001b[39m \u001b[39m%\u001b[39m\n\u001b[0;32m    205\u001b[0m                            (plugin, kind))\n\u001b[1;32m--> 207\u001b[0m \u001b[39mreturn\u001b[39;00m func(\u001b[39m*\u001b[39margs, \u001b[39m*\u001b[39m\u001b[39m*\u001b[39mkwargs)\n",
      "File \u001b[1;32mc:\\Users\\Eamon\\.conda\\envs\\pycromanager\\lib\\site-packages\\skimage\\io\\_plugins\\tifffile_plugin.py:30\u001b[0m, in \u001b[0;36mimread\u001b[1;34m(fname, **kwargs)\u001b[0m\n\u001b[0;32m     27\u001b[0m \u001b[39mif\u001b[39;00m \u001b[39m'\u001b[39m\u001b[39mimg_num\u001b[39m\u001b[39m'\u001b[39m \u001b[39min\u001b[39;00m kwargs:\n\u001b[0;32m     28\u001b[0m     kwargs[\u001b[39m'\u001b[39m\u001b[39mkey\u001b[39m\u001b[39m'\u001b[39m] \u001b[39m=\u001b[39m kwargs\u001b[39m.\u001b[39mpop(\u001b[39m'\u001b[39m\u001b[39mimg_num\u001b[39m\u001b[39m'\u001b[39m)\n\u001b[1;32m---> 30\u001b[0m \u001b[39mreturn\u001b[39;00m tifffile_imread(fname, \u001b[39m*\u001b[39m\u001b[39m*\u001b[39mkwargs)\n",
      "File \u001b[1;32mc:\\Users\\Eamon\\.conda\\envs\\pycromanager\\lib\\site-packages\\tifffile\\tifffile.py:816\u001b[0m, in \u001b[0;36mimread\u001b[1;34m(files, aszarr, **kwargs)\u001b[0m\n\u001b[0;32m    813\u001b[0m     files \u001b[39m=\u001b[39m files[\u001b[39m0\u001b[39m]\n\u001b[0;32m    815\u001b[0m \u001b[39mif\u001b[39;00m \u001b[39misinstance\u001b[39m(files, (\u001b[39mstr\u001b[39m, os\u001b[39m.\u001b[39mPathLike)) \u001b[39mor\u001b[39;00m \u001b[39mhasattr\u001b[39m(files, \u001b[39m'\u001b[39m\u001b[39mseek\u001b[39m\u001b[39m'\u001b[39m):\n\u001b[1;32m--> 816\u001b[0m     \u001b[39mwith\u001b[39;00m TiffFile(files, \u001b[39m*\u001b[39m\u001b[39m*\u001b[39mkwargs_file) \u001b[39mas\u001b[39;00m tif:\n\u001b[0;32m    817\u001b[0m         \u001b[39mif\u001b[39;00m aszarr:\n\u001b[0;32m    818\u001b[0m             \u001b[39mreturn\u001b[39;00m tif\u001b[39m.\u001b[39maszarr(\u001b[39m*\u001b[39m\u001b[39m*\u001b[39mkwargs)\n",
      "File \u001b[1;32mc:\\Users\\Eamon\\.conda\\envs\\pycromanager\\lib\\site-packages\\tifffile\\tifffile.py:3000\u001b[0m, in \u001b[0;36mTiffFile.__init__\u001b[1;34m(self, arg, mode, name, offset, size, _multifile, _useframes, _master, **kwargs)\u001b[0m\n\u001b[0;32m   2997\u001b[0m \u001b[39mif\u001b[39;00m mode \u001b[39mnot\u001b[39;00m \u001b[39min\u001b[39;00m (\u001b[39mNone\u001b[39;00m, \u001b[39m'\u001b[39m\u001b[39mrb\u001b[39m\u001b[39m'\u001b[39m, \u001b[39m'\u001b[39m\u001b[39mr+b\u001b[39m\u001b[39m'\u001b[39m):\n\u001b[0;32m   2998\u001b[0m     \u001b[39mraise\u001b[39;00m \u001b[39mValueError\u001b[39;00m(\u001b[39mf\u001b[39m\u001b[39m'\u001b[39m\u001b[39minvalid mode \u001b[39m\u001b[39m{\u001b[39;00mmode\u001b[39m!r}\u001b[39;00m\u001b[39m'\u001b[39m)\n\u001b[1;32m-> 3000\u001b[0m fh \u001b[39m=\u001b[39m FileHandle(arg, mode\u001b[39m=\u001b[39;49mmode, name\u001b[39m=\u001b[39;49mname, offset\u001b[39m=\u001b[39;49moffset, size\u001b[39m=\u001b[39;49msize)\n\u001b[0;32m   3001\u001b[0m \u001b[39mself\u001b[39m\u001b[39m.\u001b[39m_fh \u001b[39m=\u001b[39m fh\n\u001b[0;32m   3002\u001b[0m \u001b[39mself\u001b[39m\u001b[39m.\u001b[39m_multifile \u001b[39m=\u001b[39m \u001b[39mbool\u001b[39m(_multifile)\n",
      "File \u001b[1;32mc:\\Users\\Eamon\\.conda\\envs\\pycromanager\\lib\\site-packages\\tifffile\\tifffile.py:9537\u001b[0m, in \u001b[0;36mFileHandle.__init__\u001b[1;34m(self, file, mode, name, offset, size)\u001b[0m\n\u001b[0;32m   9535\u001b[0m \u001b[39mself\u001b[39m\u001b[39m.\u001b[39mis_file \u001b[39m=\u001b[39m \u001b[39mNone\u001b[39;00m\n\u001b[0;32m   9536\u001b[0m \u001b[39mself\u001b[39m\u001b[39m.\u001b[39m_lock \u001b[39m=\u001b[39m NullContext()\n\u001b[1;32m-> 9537\u001b[0m \u001b[39mself\u001b[39;49m\u001b[39m.\u001b[39;49mopen()\n",
      "File \u001b[1;32mc:\\Users\\Eamon\\.conda\\envs\\pycromanager\\lib\\site-packages\\tifffile\\tifffile.py:9550\u001b[0m, in \u001b[0;36mFileHandle.open\u001b[1;34m(self)\u001b[0m\n\u001b[0;32m   9548\u001b[0m \u001b[39mself\u001b[39m\u001b[39m.\u001b[39m_file \u001b[39m=\u001b[39m os\u001b[39m.\u001b[39mpath\u001b[39m.\u001b[39mrealpath(\u001b[39mself\u001b[39m\u001b[39m.\u001b[39m_file)\n\u001b[0;32m   9549\u001b[0m \u001b[39mself\u001b[39m\u001b[39m.\u001b[39m_dir, \u001b[39mself\u001b[39m\u001b[39m.\u001b[39m_name \u001b[39m=\u001b[39m os\u001b[39m.\u001b[39mpath\u001b[39m.\u001b[39msplit(\u001b[39mself\u001b[39m\u001b[39m.\u001b[39m_file)\n\u001b[1;32m-> 9550\u001b[0m \u001b[39mself\u001b[39m\u001b[39m.\u001b[39m_fh \u001b[39m=\u001b[39m \u001b[39mopen\u001b[39;49m(\u001b[39mself\u001b[39;49m\u001b[39m.\u001b[39;49m_file, \u001b[39mself\u001b[39;49m\u001b[39m.\u001b[39;49m_mode)\n\u001b[0;32m   9551\u001b[0m \u001b[39mself\u001b[39m\u001b[39m.\u001b[39m_close \u001b[39m=\u001b[39m \u001b[39mTrue\u001b[39;00m\n\u001b[0;32m   9552\u001b[0m \u001b[39mif\u001b[39;00m \u001b[39mself\u001b[39m\u001b[39m.\u001b[39m_offset \u001b[39mis\u001b[39;00m \u001b[39mNone\u001b[39;00m:\n",
      "\u001b[1;31mFileNotFoundError\u001b[0m: [Errno 2] No such file or directory: 'C:\\\\Images\\\\2023\\\\4-14-2023 HindIII digest\\\\DnaseI\\\\split\\\\5_MMStack_Pos0.ome0000.tif'"
     ]
    }
   ],
   "source": [
    "#FOR IMAGE SETS SAVED AS A STACK, then split\n",
    "# set folder to run\n",
    "folder = \"C:/Images/2023/4-14-2023 HindIII digest/DnaseI/split\"\n",
    "\n",
    "# read metadata, set up list of images and times\n",
    "metadata = os.path.join(folder, 'metadata.txt')\n",
    "#print(metadata)\n",
    "fil = open(metadata)\n",
    "meta = fil.read()\n",
    "jmeta = json.loads(meta)\n",
    "#print(jmeta)\n",
    "positionslist = []\n",
    "positions=[]\n",
    "for key in jmeta.keys():\n",
    "    val = jmeta[key]\n",
    "    #print(key)\n",
    "    #print(val.keys())\n",
    "    if 'XPositionUm' in val.keys():\n",
    "        #print(val['UserData']['TimeReceivedByCore']['scalar'])\n",
    "        #positionslist.append({'Name':key, 'XPositionUm':val['XPositionUm'], 'YPositionUm':val['YPositionUm']})\n",
    "        timek = val['UserData']['TimeReceivedByCore']['scalar']\n",
    "        timesplit = timek.split(':')\n",
    "        hr = timesplit[0][timesplit[0].find(' '):]\n",
    "        min = int(hr)*60+int(timesplit[1])\n",
    "        sec = float(min)*60 + float(timesplit[2])\n",
    "        secsplit = str(sec).split('.')\n",
    "        strsec = secsplit[0]+'_'+secsplit[1]\n",
    "        pos = [val['YPositionUm'],val['XPositionUm']]\n",
    "        if pos not in positions:\n",
    "            positions.append(pos)\n",
    "        positionslist.append([key,strsec,pos])\n",
    "\n",
    "#make stacks of image names\n",
    "numsites = len(positions)\n",
    "posset = [[]] * numsites\n",
    "for frame in positionslist:\n",
    "    pos = [frame[2][0],frame[2][1]]\n",
    "    ind = positions.index(pos)\n",
    "    posset[ind] = posset[ind] + [frame]\n",
    "\n",
    "#make stacks of images\n",
    "imposset = [[]] * numsites\n",
    "for pi , pos in enumerate(posset):\n",
    "    for fi, frame in enumerate(pos):\n",
    "        iname = frame[0].split('-')[1].zfill(4)\n",
    "        iname = '1_MMStack_Pos0'+iname+'.tif'\n",
    "        time = frame[1]\n",
    "        imloc = os.path.join(folder,iname)\n",
    "        img = io.imread(imloc)\n",
    "        imposset[pi] = imposset[pi] + [[iname,img,time]]\n",
    "\n",
    "#save image stacks\n",
    "posfolder = os.path.join(folder,'positions')\n",
    "if not os.path.exists(posfolder):\n",
    "    os.makedirs(posfolder)\n",
    "    for i in range(numsites):\n",
    "        os.makedirs(os.path.join(posfolder,str(i)))\n",
    "for i, imset in enumerate(imposset):\n",
    "    curfold = os.path.join(posfolder,str(i))\n",
    "    for d, img in enumerate(imset):\n",
    "        fotiname = os.path.join(curfold,str(img[2])+'.tif')\n",
    "        io.imsave(fotiname,img[1])"
   ]
  },
  {
   "cell_type": "code",
   "execution_count": null,
   "metadata": {},
   "outputs": [],
   "source": []
  }
 ],
 "metadata": {
  "kernelspec": {
   "display_name": "pycromanager",
   "language": "python",
   "name": "python3"
  },
  "language_info": {
   "codemirror_mode": {
    "name": "ipython",
    "version": 3
   },
   "file_extension": ".py",
   "mimetype": "text/x-python",
   "name": "python",
   "nbconvert_exporter": "python",
   "pygments_lexer": "ipython3",
   "version": "3.10.9"
  },
  "orig_nbformat": 4,
  "vscode": {
   "interpreter": {
    "hash": "d6f9ec5cc8a19313b7544e969f1147a923b47839bd8ea167cd0d29b5a45f47c1"
   }
  }
 },
 "nbformat": 4,
 "nbformat_minor": 2
}
