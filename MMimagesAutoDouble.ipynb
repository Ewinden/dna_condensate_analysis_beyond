{
 "cells": [
  {
   "cell_type": "code",
   "execution_count": 35,
   "metadata": {},
   "outputs": [],
   "source": [
    "import warnings\n",
    "warnings.simplefilter(\"ignore\")\n",
    "from sys import exit\n",
    "import os.path\n",
    "import cv2\n",
    "import numpy as np\n",
    "import pandas as pd\n",
    "from tkinter.filedialog import askdirectory\n",
    "from scipy import ndimage\n",
    "from skimage import measure, io, exposure, morphology\n",
    "import matplotlib.pyplot as plt"
   ]
  },
  {
   "cell_type": "code",
   "execution_count": 50,
   "metadata": {},
   "outputs": [],
   "source": [
    "'''\n",
    "Define pixel size of current camera in nm/pix-el: MD: 114, Andor: 128, Sam: 101.4\n",
    "'''\n",
    "pixelSize = 128\n",
    "threshold_value = 70\n",
    "footprint = np.ones([5,5])"
   ]
  },
  {
   "cell_type": "code",
   "execution_count": 46,
   "metadata": {},
   "outputs": [],
   "source": [
    "def findBackground(img):\n",
    "    #avgz_fit = np.zeros(img.shape, np.float64)\n",
    "    len_x = img.shape[0]\n",
    "    len_y = img.shape[1]\n",
    "    z = img.flatten()\n",
    "    z = z.reshape((len(z),1))\n",
    "    y = np.array([ i for i in range(len_y) ]*len_x)\n",
    "    x = np.array([ [i]*len_y for i in range(len_x)  ])\n",
    "    x = x.flatten()\n",
    "    xx = np.power(x, 2)\n",
    "    yy = np.power(y, 2)\n",
    "    xy = x*y\n",
    "    ones = np.ones(len(z))\n",
    "    H = np.array([ xx, yy, xy, x, y, ones ])\n",
    "    H = H.T\n",
    "    c = np.dot(H.T, H)\n",
    "    c = np.linalg.inv(c) \n",
    "    c = np.dot(c, H.T)\n",
    "    c = np.dot(c, z)\n",
    "    z_fit = np.dot(H, c)\n",
    "    z_fit = z_fit.reshape((len_x, len_y)).astype(np.uint16)\n",
    "    return(z_fit)"
   ]
  },
  {
   "cell_type": "code",
   "execution_count": 47,
   "metadata": {},
   "outputs": [],
   "source": [
    "def findObjects(img, thrval):\n",
    "    mean = np.mean(img)\n",
    "    saliency = np.power(img - mean,2)\n",
    "    dx = ndimage.sobel(saliency, 0)  # horizontal derivative\n",
    "    dy = ndimage.sobel(saliency, 1)  # vertical derivative\n",
    "    mag = np.hypot(dx, dy)  # magnitude\n",
    "    mag *= 255 / np.max(mag)  # normalize\n",
    "    binary_mask = mag >= thrval\n",
    "    clean_mask = ndimage.morphology.binary_fill_holes(binary_mask).astype(np.uint8)\n",
    "    return(clean_mask,mag.astype(np.uint8),binary_mask.astype(np.uint8))"
   ]
  },
  {
   "cell_type": "code",
   "execution_count": 56,
   "metadata": {},
   "outputs": [
    {
     "name": "stdout",
     "output_type": "stream",
     "text": [
      "\n",
      " please choose video folder!\n",
      "1/3\n",
      "2/3\n",
      "3/3\n"
     ]
    }
   ],
   "source": [
    "'''Ask for picture location'''\n",
    "print(\"\\n please choose video folder!\")\n",
    "dirtouse = askdirectory(title = \"Select foldername\", initialdir = '/home/edwin/Desktop/testimg/')\n",
    "\n",
    "tifs = []\n",
    "imgs = []\n",
    "\n",
    "'''Move through all files in directory, saving file names and images if they're tifs'''\n",
    "for filename in sorted(os.listdir(dirtouse)):\n",
    "    if filename.endswith('.tif'):\n",
    "        tifs.append(filename)\n",
    "        pictouse = os.path.join(dirtouse,filename)\n",
    "        img = io.imread(pictouse,-1)\n",
    "        imgs.append(img)\n",
    "length = len(imgs) - 1\n",
    "allpanalysis = pd.DataFrame()\n",
    "'''Move through all imgs'''\n",
    "for i in range(len(imgs)):\n",
    "    print(str(i+1)+'/'+str(length+1))\n",
    "    img = imgs[i]\n",
    "    eimg = exposure.equalize_adapthist(img)\n",
    "    imgname = tifs[i][:-4]\n",
    "    bgd = findBackground(img).astype(np.uint16)\n",
    "    bgdImg = cv2.subtract(img, bgd)\n",
    "    gbgdImg = ndimage.filters.gaussian_filter(bgdImg,1)\n",
    "    clean_mask,mag_img,dirty_mask = findObjects(gbgdImg,threshold_value)\n",
    "    super_clean_mask = morphology.binary_closing(clean_mask, footprint=footprint)\n",
    "    label_img = measure.label(super_clean_mask)\n",
    "    props = measure.regionprops_table(label_img,intensity_image=img,\n",
    "                                        properties=['label','area', 'bbox', 'bbox_area', 'convex_area',\n",
    "                                                    'centroid', 'weighted_centroid', 'weighted_local_centroid', \n",
    "                                                    'eccentricity', 'equivalent_diameter', \n",
    "                                                    'inertia_tensor', 'inertia_tensor_eigvals', \n",
    "                                                    'local_centroid', 'major_axis_length', \n",
    "                                                    'max_intensity', 'mean_intensity', 'min_intensity', \n",
    "                                                    'minor_axis_length', 'solidity',  'orientation', 'perimeter', \n",
    "                                                    'moments', 'moments_central', 'moments_hu', \n",
    "                                                    'moments_normalized', 'weighted_moments', 'weighted_moments_central', \n",
    "                                                    'weighted_moments_hu', 'weighted_moments_normalized'])\n",
    "\n",
    "    panalysis = pd.DataFrame(props)\n",
    "    panalysis.to_csv(os.path.join(dirtouse,imgname+'.csv'))\n",
    "    panalysis['imagename']= imgname\n",
    "    allpanalysis = pd.concat([allpanalysis,panalysis.dropna(axis=1)])\n",
    "allpanalysis.index=np.arange(0,len(allpanalysis))\n",
    "allpanalysis.to_csv(os.path.join(dirtouse,'totalanalysis.csv'))"
   ]
  },
  {
   "cell_type": "code",
   "execution_count": null,
   "metadata": {},
   "outputs": [],
   "source": []
  }
 ],
 "metadata": {
  "kernelspec": {
   "display_name": "Python 3 (ipykernel)",
   "language": "python",
   "name": "python3"
  },
  "language_info": {
   "codemirror_mode": {
    "name": "ipython",
    "version": 3
   },
   "file_extension": ".py",
   "mimetype": "text/x-python",
   "name": "python",
   "nbconvert_exporter": "python",
   "pygments_lexer": "ipython3",
   "version": "3.11.3"
  }
 },
 "nbformat": 4,
 "nbformat_minor": 4
}
